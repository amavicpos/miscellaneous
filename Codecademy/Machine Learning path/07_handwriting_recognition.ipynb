{
 "cells": [
  {
   "cell_type": "markdown",
   "metadata": {},
   "source": [
    "# K-Means clustering"
   ]
  },
  {
   "cell_type": "code",
   "execution_count": 11,
   "metadata": {},
   "outputs": [],
   "source": [
    "import numpy as np\n",
    "from matplotlib import pyplot as plt\n",
    "from sklearn import datasets\n",
    "from sklearn.cluster import KMeans"
   ]
  },
  {
   "cell_type": "code",
   "execution_count": 12,
   "metadata": {},
   "outputs": [
    {
     "name": "stdout",
     "output_type": "stream",
     "text": [
      ".. _digits_dataset:\n",
      "\n",
      "Optical recognition of handwritten digits dataset\n",
      "--------------------------------------------------\n",
      "\n",
      "**Data Set Characteristics:**\n",
      "\n",
      "    :Number of Instances: 1797\n",
      "    :Number of Attributes: 64\n",
      "    :Attribute Information: 8x8 image of integer pixels in the range 0..16.\n",
      "    :Missing Attribute Values: None\n",
      "    :Creator: E. Alpaydin (alpaydin '@' boun.edu.tr)\n",
      "    :Date: July; 1998\n",
      "\n",
      "This is a copy of the test set of the UCI ML hand-written digits datasets\n",
      "https://archive.ics.uci.edu/ml/datasets/Optical+Recognition+of+Handwritten+Digits\n",
      "\n",
      "The data set contains images of hand-written digits: 10 classes where\n",
      "each class refers to a digit.\n",
      "\n",
      "Preprocessing programs made available by NIST were used to extract\n",
      "normalized bitmaps of handwritten digits from a preprinted form. From a\n",
      "total of 43 people, 30 contributed to the training set and different 13\n",
      "to the test set. 32x32 bitmaps are divided into nonoverlapping blocks of\n",
      "4x4 and the number of on pixels are counted in each block. This generates\n",
      "an input matrix of 8x8 where each element is an integer in the range\n",
      "0..16. This reduces dimensionality and gives invariance to small\n",
      "distortions.\n",
      "\n",
      "For info on NIST preprocessing routines, see M. D. Garris, J. L. Blue, G.\n",
      "T. Candela, D. L. Dimmick, J. Geist, P. J. Grother, S. A. Janet, and C.\n",
      "L. Wilson, NIST Form-Based Handprint Recognition System, NISTIR 5469,\n",
      "1994.\n",
      "\n",
      ".. topic:: References\n",
      "\n",
      "  - C. Kaynak (1995) Methods of Combining Multiple Classifiers and Their\n",
      "    Applications to Handwritten Digit Recognition, MSc Thesis, Institute of\n",
      "    Graduate Studies in Science and Engineering, Bogazici University.\n",
      "  - E. Alpaydin, C. Kaynak (1998) Cascading Classifiers, Kybernetika.\n",
      "  - Ken Tang and Ponnuthurai N. Suganthan and Xi Yao and A. Kai Qin.\n",
      "    Linear dimensionalityreduction using relevance weighted LDA. School of\n",
      "    Electrical and Electronic Engineering Nanyang Technological University.\n",
      "    2005.\n",
      "  - Claudio Gentile. A New Approximate Maximal Margin Classification\n",
      "    Algorithm. NIPS. 2000.\n",
      "\n"
     ]
    }
   ],
   "source": [
    "digits = datasets.load_digits()\n",
    "print(digits.DESCR)"
   ]
  },
  {
   "cell_type": "code",
   "execution_count": 16,
   "metadata": {},
   "outputs": [
    {
     "name": "stdout",
     "output_type": "stream",
     "text": [
      "[[ 0.  0.  5. ...  0.  0.  0.]\n",
      " [ 0.  0.  0. ... 10.  0.  0.]\n",
      " [ 0.  0.  0. ... 16.  9.  0.]\n",
      " ...\n",
      " [ 0.  0.  1. ...  6.  0.  0.]\n",
      " [ 0.  0.  2. ... 12.  0.  0.]\n",
      " [ 0.  0. 10. ... 12.  1.  0.]]\n",
      "[0 1 2 ... 8 9 8]\n"
     ]
    }
   ],
   "source": [
    "X = digits.data\n",
    "y = digits.target\n",
    "print(X)\n",
    "print(y)"
   ]
  },
  {
   "cell_type": "code",
   "execution_count": 14,
   "metadata": {},
   "outputs": [
    {
     "data": {
      "text/plain": [
       "<Figure size 432x288 with 0 Axes>"
      ]
     },
     "metadata": {},
     "output_type": "display_data"
    },
    {
     "data": {
      "image/png": "[encoded data removed]",
      "text/plain": [
       "<Figure size 288x288 with 1 Axes>"
      ]
     },
     "metadata": {
      "needs_background": "light"
     },
     "output_type": "display_data"
    },
    {
     "name": "stdout",
     "output_type": "stream",
     "text": [
      "4\n"
     ]
    }
   ],
   "source": [
    "plt.gray()\n",
    "plt.matshow(digits.images[100])\n",
    "plt.show()\n",
    "print(digits.target[100])"
   ]
  },
  {
   "cell_type": "code",
   "execution_count": 28,
   "metadata": {},
   "outputs": [
    {
     "data": {
      "image/png": "[encoded data removed]",
      "text/plain": [
       "<Figure size 576x216 with 10 Axes>"
      ]
     },
     "metadata": {
      "needs_background": "light"
     },
     "output_type": "display_data"
    }
   ],
   "source": [
    "model = KMeans(n_clusters=10, random_state=2)\n",
    "model.fit(X)\n",
    "fig = plt.figure(figsize=(8, 3))\n",
    "fig.suptitle(\"Clusters of handwritten digits\")\n",
    "for i in range(10):\n",
    "    # Initialize subplots in a grid of 2X5, at i+1th position\n",
    "    ax = fig.add_subplot(2, 5, 1 + i)\n",
    "    # Display images\n",
    "    ax.imshow(model.cluster_centers_[i].reshape((8, 8)), cmap=plt.cm.binary)\n",
    "plt.show()"
   ]
  },
  {
   "cell_type": "code",
   "execution_count": 39,
   "metadata": {},
   "outputs": [
    {
     "name": "stdout",
     "output_type": "stream",
     "text": [
      "1234"
     ]
    }
   ],
   "source": [
    "# After writing 1, 2, 3, 4 in utils/test.html (copying the shape of the numbers in the clusters diagram)\n",
    "new_samples = np.array([\n",
    "[0.00,0.00,0.00,2.63,7.53,3.43,0.00,0.00,0.00,0.00,2.64,7.46,7.61,3.81,0.00,0.00,0.00,2.11,7.53,6.47,7.62,3.81,0.00,0.00,0.00,5.86,6.78,0.53,7.61,3.81,0.00,0.00,0.00,1.29,0.91,0.00,7.62,3.81,0.00,0.00,0.00,0.00,0.00,0.00,7.62,3.81,0.00,0.00,0.00,0.00,0.00,0.00,7.61,3.81,0.00,0.00,0.00,0.00,0.00,0.00,7.54,3.65,0.00,0.00],\n",
    "[0.00,0.67,5.01,7.61,7.62,3.96,0.00,0.00,0.00,6.16,7.39,4.25,6.70,5.33,0.00,0.00,0.00,6.85,4.64,0.00,6.09,5.33,0.00,0.00,0.00,5.55,3.20,0.00,6.32,5.33,0.00,0.00,0.00,0.00,0.15,5.00,7.62,4.42,0.00,0.00,0.00,0.00,3.40,7.62,3.96,0.07,0.00,0.00,0.00,0.97,7.23,6.70,2.28,2.74,0.76,0.00,0.00,5.54,7.61,7.62,7.62,7.62,3.05,0.00],\n",
    "[0.00,1.12,5.55,6.09,6.09,4.04,0.00,0.00,0.15,6.30,7.23,4.56,6.39,6.86,0.00,0.00,1.06,7.46,2.97,0.00,4.57,6.86,0.00,0.00,0.00,0.00,0.00,1.28,7.08,6.25,0.00,0.00,0.00,0.00,5.47,7.08,7.61,6.70,0.99,0.00,0.00,0.00,3.95,4.57,5.17,7.62,2.28,0.00,0.00,0.00,0.00,0.98,4.71,7.62,2.28,0.00,0.00,2.81,7.16,7.62,7.55,5.87,0.84,0.00],\n",
    "[0.00,0.00,4.33,6.94,0.00,0.00,0.00,0.00,0.00,0.22,7.00,5.33,5.56,3.50,0.00,0.00,0.07,5.08,7.62,2.36,6.17,5.33,0.00,0.00,1.44,7.61,6.01,2.28,6.55,6.25,0.46,0.00,1.21,7.61,7.62,7.62,7.61,7.62,1.98,0.00,0.00,0.61,0.76,0.76,6.24,5.33,0.00,0.00,0.00,0.00,0.00,0.00,6.09,5.33,0.00,0.00,0.00,0.00,0.00,0.00,5.94,4.95,0.00,0.00]\n",
    "])\n",
    "new_labels = model.predict(new_samples)\n",
    "for i in range(len(new_labels)):\n",
    "  if new_labels[i] == 0:\n",
    "    print(4, end='')\n",
    "  elif new_labels[i] == 1:\n",
    "    print(9, end='')\n",
    "  elif new_labels[i] == 2:\n",
    "    print(2, end='')\n",
    "  elif new_labels[i] == 3:\n",
    "    print(8, end='')\n",
    "  elif new_labels[i] == 4:\n",
    "    print(7, end='')\n",
    "  elif new_labels[i] == 5:\n",
    "    print(0, end='')\n",
    "  elif new_labels[i] == 6:\n",
    "    print(3, end='')\n",
    "  elif new_labels[i] == 7:\n",
    "    print(6, end='')\n",
    "  elif new_labels[i] == 8:\n",
    "    print(5, end='')\n",
    "  elif new_labels[i] == 9:\n",
    "    print(1, end='')"
   ]
  }
 ],
 "metadata": {
  "kernelspec": {
   "display_name": "Python 3.10.2 64-bit",
   "language": "python",
   "name": "python3"
  },
  "language_info": {
   "codemirror_mode": {
    "name": "ipython",
    "version": 3
   },
   "file_extension": ".py",
   "mimetype": "text/x-python",
   "name": "python",
   "nbconvert_exporter": "python",
   "pygments_lexer": "ipython3",
   "version": "3.10.2"
  },
  "orig_nbformat": 4,
  "vscode": {
   "interpreter": {
    "hash": "80296d27c04b7cd07892af9725f2f3128fc20f4920bcbe29184cced2d64c25d6"
   }
  }
 },
 "nbformat": 4,
 "nbformat_minor": 2
}
