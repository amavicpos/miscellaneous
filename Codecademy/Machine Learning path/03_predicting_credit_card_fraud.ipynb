{
 "cells": [
  {
   "cell_type": "markdown",
   "metadata": {},
   "source": [
    "# Logistic regression"
   ]
  },
  {
   "cell_type": "code",
   "execution_count": 1,
   "metadata": {},
   "outputs": [],
   "source": [
    "import seaborn\n",
    "import pandas as pd\n",
    "import numpy as np\n",
    "import matplotlib.pyplot as plt\n",
    "from sklearn.linear_model import LogisticRegression\n",
    "from sklearn.model_selection import train_test_split\n",
    "from sklearn.preprocessing import StandardScaler"
   ]
  },
  {
   "cell_type": "code",
   "execution_count": 2,
   "metadata": {},
   "outputs": [
    {
     "name": "stdout",
     "output_type": "stream",
     "text": [
      "<class 'pandas.core.frame.DataFrame'>\n",
      "RangeIndex: 199999 entries, 0 to 199998\n",
      "Data columns (total 10 columns):\n",
      " #   Column          Non-Null Count   Dtype  \n",
      "---  ------          --------------   -----  \n",
      " 0   step            199999 non-null  int64  \n",
      " 1   type            199999 non-null  object \n",
      " 2   amount          199999 non-null  float64\n",
      " 3   nameOrig        199999 non-null  object \n",
      " 4   oldbalanceOrg   199999 non-null  float64\n",
      " 5   newbalanceOrig  199999 non-null  float64\n",
      " 6   nameDest        199999 non-null  object \n",
      " 7   oldbalanceDest  199999 non-null  float64\n",
      " 8   newbalanceDest  199999 non-null  float64\n",
      " 9   isFraud         199999 non-null  int64  \n",
      "dtypes: float64(5), int64(2), object(3)\n",
      "memory usage: 15.3+ MB\n"
     ]
    }
   ],
   "source": [
    "# Load the data\n",
    "df = pd.read_csv(\"utils/transactions.csv\")\n",
    "df.info()"
   ]
  },
  {
   "cell_type": "code",
   "execution_count": 3,
   "metadata": {},
   "outputs": [
    {
     "data": {
      "text/html": [
       "<div>\n",
       "<style scoped>\n",
       "    .dataframe tbody tr th:only-of-type {\n",
       "        vertical-align: middle;\n",
       "    }\n",
       "\n",
       "    .dataframe tbody tr th {\n",
       "        vertical-align: top;\n",
       "    }\n",
       "\n",
       "    .dataframe thead th {\n",
       "        text-align: right;\n",
       "    }\n",
       "</style>\n",
       "<table border=\"1\" class=\"dataframe\">\n",
       "  <thead>\n",
       "    <tr style=\"text-align: right;\">\n",
       "      <th></th>\n",
       "      <th>step</th>\n",
       "      <th>type</th>\n",
       "      <th>amount</th>\n",
       "      <th>nameOrig</th>\n",
       "      <th>oldbalanceOrg</th>\n",
       "      <th>newbalanceOrig</th>\n",
       "      <th>nameDest</th>\n",
       "      <th>oldbalanceDest</th>\n",
       "      <th>newbalanceDest</th>\n",
       "      <th>isFraud</th>\n",
       "    </tr>\n",
       "  </thead>\n",
       "  <tbody>\n",
       "    <tr>\n",
       "      <th>0</th>\n",
       "      <td>8</td>\n",
       "      <td>CASH_OUT</td>\n",
       "      <td>158007.12</td>\n",
       "      <td>C424875646</td>\n",
       "      <td>0.00</td>\n",
       "      <td>0.00</td>\n",
       "      <td>C1298177219</td>\n",
       "      <td>474016.32</td>\n",
       "      <td>1618631.97</td>\n",
       "      <td>0</td>\n",
       "    </tr>\n",
       "    <tr>\n",
       "      <th>1</th>\n",
       "      <td>236</td>\n",
       "      <td>CASH_OUT</td>\n",
       "      <td>457948.30</td>\n",
       "      <td>C1342616552</td>\n",
       "      <td>0.00</td>\n",
       "      <td>0.00</td>\n",
       "      <td>C1323169990</td>\n",
       "      <td>2720411.37</td>\n",
       "      <td>3178359.67</td>\n",
       "      <td>0</td>\n",
       "    </tr>\n",
       "    <tr>\n",
       "      <th>2</th>\n",
       "      <td>37</td>\n",
       "      <td>CASH_IN</td>\n",
       "      <td>153602.99</td>\n",
       "      <td>C900876541</td>\n",
       "      <td>11160428.67</td>\n",
       "      <td>11314031.67</td>\n",
       "      <td>C608741097</td>\n",
       "      <td>3274930.56</td>\n",
       "      <td>3121327.56</td>\n",
       "      <td>0</td>\n",
       "    </tr>\n",
       "    <tr>\n",
       "      <th>3</th>\n",
       "      <td>331</td>\n",
       "      <td>CASH_OUT</td>\n",
       "      <td>49555.14</td>\n",
       "      <td>C177696810</td>\n",
       "      <td>10865.00</td>\n",
       "      <td>0.00</td>\n",
       "      <td>C462716348</td>\n",
       "      <td>0.00</td>\n",
       "      <td>49555.14</td>\n",
       "      <td>0</td>\n",
       "    </tr>\n",
       "    <tr>\n",
       "      <th>4</th>\n",
       "      <td>250</td>\n",
       "      <td>CASH_OUT</td>\n",
       "      <td>29648.02</td>\n",
       "      <td>C788941490</td>\n",
       "      <td>0.00</td>\n",
       "      <td>0.00</td>\n",
       "      <td>C1971700992</td>\n",
       "      <td>56933.09</td>\n",
       "      <td>86581.10</td>\n",
       "      <td>0</td>\n",
       "    </tr>\n",
       "  </tbody>\n",
       "</table>\n",
       "</div>"
      ],
      "text/plain": [
       "   step      type     amount     nameOrig  oldbalanceOrg  newbalanceOrig  \\\n",
       "0     8  CASH_OUT  158007.12   C424875646           0.00            0.00   \n",
       "1   236  CASH_OUT  457948.30  C1342616552           0.00            0.00   \n",
       "2    37   CASH_IN  153602.99   C900876541    11160428.67     11314031.67   \n",
       "3   331  CASH_OUT   49555.14   C177696810       10865.00            0.00   \n",
       "4   250  CASH_OUT   29648.02   C788941490           0.00            0.00   \n",
       "\n",
       "      nameDest  oldbalanceDest  newbalanceDest  isFraud  \n",
       "0  C1298177219       474016.32      1618631.97        0  \n",
       "1  C1323169990      2720411.37      3178359.67        0  \n",
       "2   C608741097      3274930.56      3121327.56        0  \n",
       "3   C462716348            0.00        49555.14        0  \n",
       "4  C1971700992        56933.09        86581.10        0  "
      ]
     },
     "execution_count": 3,
     "metadata": {},
     "output_type": "execute_result"
    }
   ],
   "source": [
    "df.head()"
   ]
  },
  {
   "cell_type": "code",
   "execution_count": 4,
   "metadata": {},
   "outputs": [
    {
     "data": {
      "text/plain": [
       "count    1.999990e+05\n",
       "mean     1.802425e+05\n",
       "std      6.255482e+05\n",
       "min      0.000000e+00\n",
       "25%      1.338746e+04\n",
       "50%      7.426695e+04\n",
       "75%      2.086376e+05\n",
       "max      5.204280e+07\n",
       "Name: amount, dtype: float64"
      ]
     },
     "execution_count": 4,
     "metadata": {},
     "output_type": "execute_result"
    }
   ],
   "source": [
    "# Summary statistics on amount column\n",
    "df[\"amount\"].describe()"
   ]
  },
  {
   "cell_type": "code",
   "execution_count": 5,
   "metadata": {},
   "outputs": [],
   "source": [
    "# Create isPayment field\n",
    "df[\"isPayment\"] = [1 if ((x == \"PAYMENT\") | (x == \"DEBIT\")) else 0 for x in df[\"type\"]]\n",
    "\n",
    "# Create isMovement field\n",
    "df[\"isMovement\"] = [1 if ((x == \"CASH_OUT\") | (x == \"TRANSFER\")) else 0 for x in df[\"type\"]]\n",
    "\n",
    "# Create accountDiff field\n",
    "df[\"accountDiff\"] = abs(df[\"oldbalanceDest\"] - df[\"oldbalanceOrg\"])"
   ]
  },
  {
   "cell_type": "code",
   "execution_count": 6,
   "metadata": {},
   "outputs": [],
   "source": [
    "# Create features and label variables\n",
    "features = df[[\"amount\", \"isPayment\", \"isMovement\", \"accountDiff\"]].values\n",
    "label = df[\"isFraud\"].values\n",
    "\n",
    "# Split dataset\n",
    "features_train, features_test, label_train, label_test = \\\n",
    "  train_test_split(features, label, test_size = 0.3)\n",
    "\n",
    "# Normalize the features variables\n",
    "scaler = StandardScaler()\n",
    "features_train = scaler.fit_transform(features_train)\n",
    "features_test = scaler.transform(features_test)"
   ]
  },
  {
   "cell_type": "code",
   "execution_count": 7,
   "metadata": {},
   "outputs": [
    {
     "name": "stdout",
     "output_type": "stream",
     "text": [
      "0.9986357045407467\n",
      "0.99835\n",
      "[[-0.2844173   1.37248801 -0.87714558 -0.39443575]\n",
      " [-0.28579407  1.37248801 -0.87714558 -0.32589488]\n",
      " [ 4.48260206 -0.72860382  1.1400616   0.32394145]\n",
      " ...\n",
      " [-0.05480161 -0.72860382  1.1400616  -0.30438467]\n",
      " [-0.26625183  1.37248801 -0.87714558 -0.39443575]\n",
      " [-0.27965222  1.37248801 -0.87714558 -0.39443575]]\n",
      "[[ 0.21202324 -0.72595058  2.246339   -0.53391072]]\n"
     ]
    }
   ],
   "source": [
    "# Fit the model to the training data\n",
    "logr = LogisticRegression()\n",
    "logr.fit(features_train, label_train)\n",
    "\n",
    "# Score the model on the training data\n",
    "print(logr.score(features_train, label_train))\n",
    "\n",
    "# Score the model on the test data\n",
    "print(logr.score(features_test, label_test))\n",
    "\n",
    "# Print the model coefficients\n",
    "print(features_train)\n",
    "print(logr.coef_)\n",
    "  # Most important feature: amount\n",
    "  # Least important feature: isMovement"
   ]
  },
  {
   "cell_type": "code",
   "execution_count": 8,
   "metadata": {},
   "outputs": [
    {
     "name": "stdout",
     "output_type": "stream",
     "text": [
      "[0 0 0 0]\n",
      "[[9.96835723e-01 3.16427680e-03]\n",
      " [9.99992584e-01 7.41586897e-06]\n",
      " [9.99991873e-01 8.12719901e-06]\n",
      " [9.96949252e-01 3.05074769e-03]]\n"
     ]
    }
   ],
   "source": [
    "# New transaction data\n",
    "transaction1 = np.array([123456.78, 0.0, 1.0, 54670.1])\n",
    "transaction2 = np.array([98765.43, 1.0, 0.0, 8524.75])\n",
    "transaction3 = np.array([543678.31, 1.0, 0.0, 510025.5])\n",
    "\n",
    "# Create a new transaction\n",
    "your_transaction = np.array([1000.0, 0.0, 1.0, 1000.0])\n",
    "\n",
    "# Combine new transactions into a single array\n",
    "sample_transactions = np.stack((transaction1, transaction2, transaction3, your_transaction))\n",
    "\n",
    "# Normalize the new transactions\n",
    "sample_transactions = scaler.transform(sample_transactions)\n",
    "\n",
    "# Predict fraud on the new transactions\n",
    "print(logr.predict(sample_transactions))\n",
    "\n",
    "# Show probabilities on the new transactions\n",
    "print(logr.predict_proba(sample_transactions))"
   ]
  }
 ],
 "metadata": {
  "kernelspec": {
   "display_name": "Python 3.10.2 64-bit",
   "language": "python",
   "name": "python3"
  },
  "language_info": {
   "codemirror_mode": {
    "name": "ipython",
    "version": 3
   },
   "file_extension": ".py",
   "mimetype": "text/x-python",
   "name": "python",
   "nbconvert_exporter": "python",
   "pygments_lexer": "ipython3",
   "version": "3.10.2"
  },
  "orig_nbformat": 4,
  "vscode": {
   "interpreter": {
    "hash": "80296d27c04b7cd07892af9725f2f3128fc20f4920bcbe29184cced2d64c25d6"
   }
  }
 },
 "nbformat": 4,
 "nbformat_minor": 2
}
